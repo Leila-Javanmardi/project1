{
 "cells": [
  {
   "cell_type": "code",
   "execution_count": 54,
   "id": "cd141558",
   "metadata": {},
   "outputs": [
    {
     "data": {
      "text/plain": [
       "'/Users/leilajavanmardi/Desktop/Leila/Coding_IronHack/Data_Analytics_Bootcamp/week3/project1/notebooks'"
      ]
     },
     "execution_count": 54,
     "metadata": {},
     "output_type": "execute_result"
    }
   ],
   "source": [
    "pwd"
   ]
  },
  {
   "cell_type": "code",
   "execution_count": 55,
   "id": "a79ae833",
   "metadata": {},
   "outputs": [],
   "source": [
    "import numpy as np\n",
    "import pandas as pd\n",
    "import os\n",
    "import re"
   ]
  },
  {
   "cell_type": "code",
   "execution_count": 56,
   "id": "00b20505-1d61-43c1-9ef9-3bf8a7699f3c",
   "metadata": {},
   "outputs": [
    {
     "name": "stdout",
     "output_type": "stream",
     "text": [
      "The original data set has 672 rows and 15 columns\n"
     ]
    }
   ],
   "source": [
    "path='/Users/leilajavanmardi/Desktop/Leila/Coding_IronHack/Data_Analytics_Bootcamp/week3/project1/data/raw/Uncleaned_DS_jobs.csv'\n",
    "df = pd.read_csv(path)\n",
    "shape=df.shape\n",
    "print(f'The original data set has {shape[0]} rows and {shape[1]} columns')"
   ]
  },
  {
   "cell_type": "code",
   "execution_count": 57,
   "id": "aea3ff8a-4536-4fc0-8ae9-4a0824293135",
   "metadata": {},
   "outputs": [
    {
     "name": "stdout",
     "output_type": "stream",
     "text": [
      "\n",
      "The first 3 rows of the original dataset\n",
      "\n"
     ]
    },
    {
     "data": {
      "text/html": [
       "<div>\n",
       "<style scoped>\n",
       "    .dataframe tbody tr th:only-of-type {\n",
       "        vertical-align: middle;\n",
       "    }\n",
       "\n",
       "    .dataframe tbody tr th {\n",
       "        vertical-align: top;\n",
       "    }\n",
       "\n",
       "    .dataframe thead th {\n",
       "        text-align: right;\n",
       "    }\n",
       "</style>\n",
       "<table border=\"1\" class=\"dataframe\">\n",
       "  <thead>\n",
       "    <tr style=\"text-align: right;\">\n",
       "      <th></th>\n",
       "      <th>index</th>\n",
       "      <th>Job Title</th>\n",
       "      <th>Salary Estimate</th>\n",
       "      <th>Job Description</th>\n",
       "      <th>Rating</th>\n",
       "      <th>Company Name</th>\n",
       "      <th>Location</th>\n",
       "      <th>Headquarters</th>\n",
       "      <th>Size</th>\n",
       "      <th>Founded</th>\n",
       "      <th>Type of ownership</th>\n",
       "      <th>Industry</th>\n",
       "      <th>Sector</th>\n",
       "      <th>Revenue</th>\n",
       "      <th>Competitors</th>\n",
       "    </tr>\n",
       "  </thead>\n",
       "  <tbody>\n",
       "    <tr>\n",
       "      <th>0</th>\n",
       "      <td>0</td>\n",
       "      <td>Sr Data Scientist</td>\n",
       "      <td>$137K-$171K (Glassdoor est.)</td>\n",
       "      <td>Description\\n\\nThe Senior Data Scientist is re...</td>\n",
       "      <td>3.1</td>\n",
       "      <td>Healthfirst\\n3.1</td>\n",
       "      <td>New York, NY</td>\n",
       "      <td>New York, NY</td>\n",
       "      <td>1001 to 5000 employees</td>\n",
       "      <td>1993</td>\n",
       "      <td>Nonprofit Organization</td>\n",
       "      <td>Insurance Carriers</td>\n",
       "      <td>Insurance</td>\n",
       "      <td>Unknown / Non-Applicable</td>\n",
       "      <td>EmblemHealth, UnitedHealth Group, Aetna</td>\n",
       "    </tr>\n",
       "    <tr>\n",
       "      <th>1</th>\n",
       "      <td>1</td>\n",
       "      <td>Data Scientist</td>\n",
       "      <td>$137K-$171K (Glassdoor est.)</td>\n",
       "      <td>Secure our Nation, Ignite your Future\\n\\nJoin ...</td>\n",
       "      <td>4.2</td>\n",
       "      <td>ManTech\\n4.2</td>\n",
       "      <td>Chantilly, VA</td>\n",
       "      <td>Herndon, VA</td>\n",
       "      <td>5001 to 10000 employees</td>\n",
       "      <td>1968</td>\n",
       "      <td>Company - Public</td>\n",
       "      <td>Research &amp; Development</td>\n",
       "      <td>Business Services</td>\n",
       "      <td>$1 to $2 billion (USD)</td>\n",
       "      <td>-1</td>\n",
       "    </tr>\n",
       "    <tr>\n",
       "      <th>2</th>\n",
       "      <td>2</td>\n",
       "      <td>Data Scientist</td>\n",
       "      <td>$137K-$171K (Glassdoor est.)</td>\n",
       "      <td>Overview\\n\\n\\nAnalysis Group is one of the lar...</td>\n",
       "      <td>3.8</td>\n",
       "      <td>Analysis Group\\n3.8</td>\n",
       "      <td>Boston, MA</td>\n",
       "      <td>Boston, MA</td>\n",
       "      <td>1001 to 5000 employees</td>\n",
       "      <td>1981</td>\n",
       "      <td>Private Practice / Firm</td>\n",
       "      <td>Consulting</td>\n",
       "      <td>Business Services</td>\n",
       "      <td>$100 to $500 million (USD)</td>\n",
       "      <td>-1</td>\n",
       "    </tr>\n",
       "  </tbody>\n",
       "</table>\n",
       "</div>"
      ],
      "text/plain": [
       "   index          Job Title               Salary Estimate  \\\n",
       "0      0  Sr Data Scientist  $137K-$171K (Glassdoor est.)   \n",
       "1      1     Data Scientist  $137K-$171K (Glassdoor est.)   \n",
       "2      2     Data Scientist  $137K-$171K (Glassdoor est.)   \n",
       "\n",
       "                                     Job Description  Rating  \\\n",
       "0  Description\\n\\nThe Senior Data Scientist is re...     3.1   \n",
       "1  Secure our Nation, Ignite your Future\\n\\nJoin ...     4.2   \n",
       "2  Overview\\n\\n\\nAnalysis Group is one of the lar...     3.8   \n",
       "\n",
       "          Company Name       Location  Headquarters                     Size  \\\n",
       "0     Healthfirst\\n3.1   New York, NY  New York, NY   1001 to 5000 employees   \n",
       "1         ManTech\\n4.2  Chantilly, VA   Herndon, VA  5001 to 10000 employees   \n",
       "2  Analysis Group\\n3.8     Boston, MA    Boston, MA   1001 to 5000 employees   \n",
       "\n",
       "   Founded        Type of ownership                Industry  \\\n",
       "0     1993   Nonprofit Organization      Insurance Carriers   \n",
       "1     1968         Company - Public  Research & Development   \n",
       "2     1981  Private Practice / Firm              Consulting   \n",
       "\n",
       "              Sector                     Revenue  \\\n",
       "0          Insurance    Unknown / Non-Applicable   \n",
       "1  Business Services      $1 to $2 billion (USD)   \n",
       "2  Business Services  $100 to $500 million (USD)   \n",
       "\n",
       "                               Competitors  \n",
       "0  EmblemHealth, UnitedHealth Group, Aetna  \n",
       "1                                       -1  \n",
       "2                                       -1  "
      ]
     },
     "metadata": {},
     "output_type": "display_data"
    },
    {
     "name": "stdout",
     "output_type": "stream",
     "text": [
      "\n",
      "\n",
      "The last 3 rows of the original dataset\n",
      "\n"
     ]
    },
    {
     "data": {
      "text/html": [
       "<div>\n",
       "<style scoped>\n",
       "    .dataframe tbody tr th:only-of-type {\n",
       "        vertical-align: middle;\n",
       "    }\n",
       "\n",
       "    .dataframe tbody tr th {\n",
       "        vertical-align: top;\n",
       "    }\n",
       "\n",
       "    .dataframe thead th {\n",
       "        text-align: right;\n",
       "    }\n",
       "</style>\n",
       "<table border=\"1\" class=\"dataframe\">\n",
       "  <thead>\n",
       "    <tr style=\"text-align: right;\">\n",
       "      <th></th>\n",
       "      <th>index</th>\n",
       "      <th>Job Title</th>\n",
       "      <th>Salary Estimate</th>\n",
       "      <th>Job Description</th>\n",
       "      <th>Rating</th>\n",
       "      <th>Company Name</th>\n",
       "      <th>Location</th>\n",
       "      <th>Headquarters</th>\n",
       "      <th>Size</th>\n",
       "      <th>Founded</th>\n",
       "      <th>Type of ownership</th>\n",
       "      <th>Industry</th>\n",
       "      <th>Sector</th>\n",
       "      <th>Revenue</th>\n",
       "      <th>Competitors</th>\n",
       "    </tr>\n",
       "  </thead>\n",
       "  <tbody>\n",
       "    <tr>\n",
       "      <th>669</th>\n",
       "      <td>669</td>\n",
       "      <td>Data Scientist</td>\n",
       "      <td>$105K-$167K (Glassdoor est.)</td>\n",
       "      <td>Join a thriving company that is changing the w...</td>\n",
       "      <td>-1.0</td>\n",
       "      <td>AccessHope</td>\n",
       "      <td>Irwindale, CA</td>\n",
       "      <td>-1</td>\n",
       "      <td>-1</td>\n",
       "      <td>-1</td>\n",
       "      <td>-1</td>\n",
       "      <td>-1</td>\n",
       "      <td>-1</td>\n",
       "      <td>-1</td>\n",
       "      <td>-1</td>\n",
       "    </tr>\n",
       "    <tr>\n",
       "      <th>670</th>\n",
       "      <td>670</td>\n",
       "      <td>Data Scientist</td>\n",
       "      <td>$105K-$167K (Glassdoor est.)</td>\n",
       "      <td>100 Remote Opportunity As an AINLP Data Scient...</td>\n",
       "      <td>5.0</td>\n",
       "      <td>ChaTeck Incorporated\\n5.0</td>\n",
       "      <td>San Francisco, CA</td>\n",
       "      <td>Santa Clara, CA</td>\n",
       "      <td>1 to 50 employees</td>\n",
       "      <td>-1</td>\n",
       "      <td>Company - Private</td>\n",
       "      <td>Advertising &amp; Marketing</td>\n",
       "      <td>Business Services</td>\n",
       "      <td>$1 to $5 million (USD)</td>\n",
       "      <td>-1</td>\n",
       "    </tr>\n",
       "    <tr>\n",
       "      <th>671</th>\n",
       "      <td>671</td>\n",
       "      <td>Data Scientist</td>\n",
       "      <td>$105K-$167K (Glassdoor est.)</td>\n",
       "      <td>Description\\n\\nThe Data Scientist will be part...</td>\n",
       "      <td>2.7</td>\n",
       "      <td>1-800-Flowers\\n2.7</td>\n",
       "      <td>New York, NY</td>\n",
       "      <td>Carle Place, NY</td>\n",
       "      <td>1001 to 5000 employees</td>\n",
       "      <td>1976</td>\n",
       "      <td>Company - Public</td>\n",
       "      <td>Wholesale</td>\n",
       "      <td>Business Services</td>\n",
       "      <td>$1 to $2 billion (USD)</td>\n",
       "      <td>-1</td>\n",
       "    </tr>\n",
       "  </tbody>\n",
       "</table>\n",
       "</div>"
      ],
      "text/plain": [
       "     index       Job Title               Salary Estimate  \\\n",
       "669    669  Data Scientist  $105K-$167K (Glassdoor est.)   \n",
       "670    670  Data Scientist  $105K-$167K (Glassdoor est.)   \n",
       "671    671  Data Scientist  $105K-$167K (Glassdoor est.)   \n",
       "\n",
       "                                       Job Description  Rating  \\\n",
       "669  Join a thriving company that is changing the w...    -1.0   \n",
       "670  100 Remote Opportunity As an AINLP Data Scient...     5.0   \n",
       "671  Description\\n\\nThe Data Scientist will be part...     2.7   \n",
       "\n",
       "                  Company Name           Location     Headquarters  \\\n",
       "669                 AccessHope      Irwindale, CA               -1   \n",
       "670  ChaTeck Incorporated\\n5.0  San Francisco, CA  Santa Clara, CA   \n",
       "671         1-800-Flowers\\n2.7       New York, NY  Carle Place, NY   \n",
       "\n",
       "                       Size  Founded  Type of ownership  \\\n",
       "669                      -1       -1                 -1   \n",
       "670       1 to 50 employees       -1  Company - Private   \n",
       "671  1001 to 5000 employees     1976   Company - Public   \n",
       "\n",
       "                    Industry             Sector                 Revenue  \\\n",
       "669                       -1                 -1                      -1   \n",
       "670  Advertising & Marketing  Business Services  $1 to $5 million (USD)   \n",
       "671                Wholesale  Business Services  $1 to $2 billion (USD)   \n",
       "\n",
       "    Competitors  \n",
       "669          -1  \n",
       "670          -1  \n",
       "671          -1  "
      ]
     },
     "execution_count": 57,
     "metadata": {},
     "output_type": "execute_result"
    }
   ],
   "source": [
    "print('\\nThe first 3 rows of the original dataset\\n')\n",
    "display(df.head(3))\n",
    "print('\\n\\nThe last 3 rows of the original dataset\\n')\n",
    "df.tail(3)"
   ]
  },
  {
   "cell_type": "code",
   "execution_count": 58,
   "id": "82d65979-1092-4100-8f5f-32492d2ca6bc",
   "metadata": {},
   "outputs": [
    {
     "name": "stdout",
     "output_type": "stream",
     "text": [
      " the missing values of the column index : 0\n",
      " the missing values of the column Job Title : 0\n",
      " the missing values of the column Salary Estimate : 0\n",
      " the missing values of the column Job Description : 0\n",
      " the missing values of the column Rating : 0\n",
      " the missing values of the column Company Name : 0\n",
      " the missing values of the column Location : 0\n",
      " the missing values of the column Headquarters : 0\n",
      " the missing values of the column Size : 0\n",
      " the missing values of the column Founded : 0\n",
      " the missing values of the column Type of ownership : 0\n",
      " the missing values of the column Industry : 0\n",
      " the missing values of the column Sector : 0\n",
      " the missing values of the column Revenue : 0\n",
      " the missing values of the column Competitors : 0\n"
     ]
    }
   ],
   "source": [
    "col_df=df.columns\n",
    "null_values_origin=df.isna().sum()\n",
    "for col in col_df:\n",
    "    print(f' the missing values of the column {col} : {null_values_origin.loc[col]}')"
   ]
  },
  {
   "cell_type": "code",
   "execution_count": 59,
   "id": "7f98c267-e699-4145-aca4-ae992cd045f7",
   "metadata": {},
   "outputs": [
    {
     "name": "stdout",
     "output_type": "stream",
     "text": [
      " the type of the column index is: int64\n",
      " the type of the column Job Title is: object\n",
      " the type of the column Salary Estimate is: object\n",
      " the type of the column Job Description is: object\n",
      " the type of the column Rating is: float64\n",
      " the type of the column Company Name is: object\n",
      " the type of the column Location is: object\n",
      " the type of the column Headquarters is: object\n",
      " the type of the column Size is: object\n",
      " the type of the column Founded is: int64\n",
      " the type of the column Type of ownership is: object\n",
      " the type of the column Industry is: object\n",
      " the type of the column Sector is: object\n",
      " the type of the column Revenue is: object\n",
      " the type of the column Competitors is: object\n"
     ]
    }
   ],
   "source": [
    "type=df.dtypes\n",
    "for col in col_df:\n",
    "    print(f' the type of the column {col} is: {type.loc[col]}')"
   ]
  },
  {
   "cell_type": "code",
   "execution_count": 60,
   "id": "dd66d612-5b8a-48e6-96b5-cbc7609a12f7",
   "metadata": {},
   "outputs": [
    {
     "data": {
      "text/plain": [
       "index                672\n",
       "Job Title            172\n",
       "Salary Estimate       30\n",
       "Job Description      489\n",
       "Rating                32\n",
       "Company Name         432\n",
       "Location             207\n",
       "Headquarters         229\n",
       "Size                   9\n",
       "Founded              103\n",
       "Type of ownership     13\n",
       "Industry              58\n",
       "Sector                23\n",
       "Revenue               14\n",
       "Competitors          108\n",
       "dtype: int64"
      ]
     },
     "execution_count": 60,
     "metadata": {},
     "output_type": "execute_result"
    }
   ],
   "source": [
    "df.nunique()"
   ]
  },
  {
   "cell_type": "code",
   "execution_count": 61,
   "id": "2f939262-a9c3-48d0-9e61-2e8ccbba2a4f",
   "metadata": {},
   "outputs": [
    {
     "data": {
      "text/plain": [
       "array(['New York, NY', 'Herndon, VA', 'Boston, MA',\n",
       "       'Bad Ragaz, Switzerland', 'Santa Barbara, CA',\n",
       "       'Basel, Switzerland', 'Bedford, MA', 'Mountain View, CA',\n",
       "       'Chicago, IL', 'Mc Lean, VA', 'Saint Louis, MO', 'Richland, WA',\n",
       "       'Northbrook, IL', 'Princeton, NJ', 'Mays Landing, NJ',\n",
       "       'Washington, DC', 'Memphis, TN', 'Tempe, AZ', 'Reading, PA',\n",
       "       'San Francisco, CA', 'Menlo Park, CA', 'Atlanta, GA',\n",
       "       'Orlando, FL', 'Lexington, MA', 'Falls Church, VA',\n",
       "       'Sheboygan, WI', 'Seattle, WA', 'Bellevue, WA', 'Lincoln, NE',\n",
       "       'Chantilly, VA', 'Santa Monica, CA', 'Ewing, NJ',\n",
       "       'South San Francisco, CA', 'Palo Alto, CA', 'Singapore, Singapore',\n",
       "       'Cambridge, MA', 'OSAKA, Japan', 'Santa Clara, CA', 'Vienna, VA',\n",
       "       'New Orleans, LA', 'Akron, OH', 'Zurich, Switzerland',\n",
       "       'Woburn, MA', 'Carson, CA', 'Coral Gables, FL', 'San Ramon, CA',\n",
       "       'Brisbane, CA', 'Winter Park, FL', 'San Rafael, CA',\n",
       "       'Deerfield, IL', 'Ipswich, MA', 'Carmel, IN', 'Chevy Chase, MD',\n",
       "       'Hartford, CT', 'Emeryville, CA', 'Cambridge, United Kingdom',\n",
       "       'Rockville, MD', 'Minneapolis, MN', 'Austin, TX', 'Yakima, WA',\n",
       "       'Santa Cruz, CA', 'South Jordan, UT', 'Reston, VA', 'Denver, CO',\n",
       "       'Holmdel, NJ', 'Aurora, CO', 'San Mateo, CA', 'Goleta, CA',\n",
       "       'Franklin, TN', 'Indianapolis, IN', 'Lutherville Timonium, MD',\n",
       "       'Westminster, CO', 'Burlingame, CA', 'Annapolis Junction, MD',\n",
       "       'Bethesda, MD', 'Beavercreek, OH', 'Schaumburg, IL',\n",
       "       'Sunnyvale, CA', 'Lehi, UT', 'Lake Oswego, OR', 'Holyoke, MA',\n",
       "       'Dulles, VA', 'San Diego, CA', 'Detroit, MI', 'Stamford, CT',\n",
       "       'Carpinteria, CA', 'Columbia, SC', '-1', \"Marcy-l'Etoile, France\",\n",
       "       'Columbia, MO', 'Fairfax, VA', 'Chandler, AZ', 'Aurora, Canada',\n",
       "       'Blue Bell, PA', 'Troy, MI', 'Redwood City, CA', 'Greenville, SC',\n",
       "       'Arlington, VA', 'Harrisburg, PA', 'Hamilton, Bermuda',\n",
       "       'Lynchburg, VA', 'Springfield, MA', 'San Carlos, CA',\n",
       "       'Waltham, MA', 'San Jose, CA', 'Jersey City, NJ', 'Fort Worth, TX',\n",
       "       'Cedar Rapids, IA', 'McLean, VA', 'Lorton, VA', 'Maple Plain, MN',\n",
       "       'Kent, WA', 'Woodbine, MD', 'San Antonio, TX', 'Scotts Valley, CA',\n",
       "       'Spartanburg, SC', 'Woodbridge, NJ', 'Chennai, India',\n",
       "       'Tel Aviv-Yafo, Israel', 'Baltimore, MD', 'Manalapan, NJ',\n",
       "       'Charlotte, NC', 'Saxonburg, PA', 'Bristol, PA',\n",
       "       'Bangalore, India', 'Hoboken, NJ', 'Paris, France',\n",
       "       'Greenwich, CT', 'Santa Ana, CA', 'Houston, TX', 'Tucson, AZ',\n",
       "       'Birmingham, AL', 'Cleveland, OH', 'Pleasanton, CA',\n",
       "       'Columbus, OH', 'Piscataway, NJ', 'Danvers, MA',\n",
       "       'Philadelphia, PA', 'Livermore, CA', 'Pittsburgh, PA',\n",
       "       'Dallas, TX', 'Toronto, Canada', 'Irvine, CA', 'Hillsborough, NJ',\n",
       "       'Oshkosh, WI', 'Fremont, CA', 'Monroe, WI', 'Goteborg, Sweden',\n",
       "       'Lake Buena Vista, FL', 'Schaffhausen, Switzerland',\n",
       "       'Richmond, VA', 'Newark, CA', 'Greensboro, NC', 'Scottsdale, AZ',\n",
       "       'Irving, TX', 'Beltsville, MD', 'Naperville, IL',\n",
       "       'Brentford, United Kingdom', 'Cincinnati, OH', 'Somerset, NJ',\n",
       "       'London, United Kingdom', 'Raleigh, NC', 'Leesburg, VA',\n",
       "       'Durham, NC', 'Kent, OH', 'Westlake Village, CA',\n",
       "       'North Brunswick, NJ', 'Benicia, CA', 'Laurel, MD', 'Columbia, MD',\n",
       "       'Danville, CA', 'Wilmington, MA', 'New York, 061', 'Reading, MA',\n",
       "       'Folsom, CA', 'Wilsonville, OR', 'Huntsville, AL', 'Madison, WI',\n",
       "       'Phila, PA', 'Winston-Salem, NC', 'Half Moon Bay, CA',\n",
       "       'Los Angeles, CA', 'Hilliard, OH', 'Hanover, MD',\n",
       "       'Kansas City, MO', 'Bengaluru, India', 'Alpharetta, GA',\n",
       "       'Germantown, MD', 'Omaha, NE', 'Clifton Park, NY', 'Livonia, MI',\n",
       "       'Ashburn, VA', 'Nashville, TN', 'Alexandria, VA', 'Edison, NJ',\n",
       "       'Ventura, CA', 'Armonk, NY', 'Trumbull, CT', 'Chadds Ford, PA',\n",
       "       'Saint Paul, MN', 'Glen Allen, VA', 'Aliso Viejo, CA',\n",
       "       'Plainsboro, NJ', 'Fairmont, WV', 'Cherry Hill, NJ', 'Itasca, IL',\n",
       "       'Coconut Creek, FL', 'Lombard, IL', 'Honolulu, HI',\n",
       "       'Carle Place, NY', 'Cupertino, CA', 'Tampa, FL', 'Totowa, NJ',\n",
       "       'Rome, NY', 'Milan, IL', 'Marbella, Spain', 'Simi Valley, CA',\n",
       "       'Rancho Cucamonga, CA', 'Albuquerque, NM', 'Langley, VA',\n",
       "       'Plano, TX', 'Albertville, AL', 'Orange, CA', 'Littleton, CO',\n",
       "       'Oakville, Canada', 'San Bruno, CA', 'West Chester, PA',\n",
       "       'Utica, MI', 'Fort Lee, NJ'], dtype=object)"
      ]
     },
     "execution_count": 61,
     "metadata": {},
     "output_type": "execute_result"
    }
   ],
   "source": [
    "df.Headquarters.unique()"
   ]
  },
  {
   "cell_type": "code",
   "execution_count": 62,
   "id": "7585d975-b528-4ccd-b2ea-4372c9e9f014",
   "metadata": {},
   "outputs": [
    {
     "data": {
      "text/plain": [
       "array(['Sr Data Scientist', 'Data Scientist',\n",
       "       'Data Scientist / Machine Learning Expert',\n",
       "       'Staff Data Scientist - Analytics',\n",
       "       'Data Scientist - Statistics, Early Career', 'Data Modeler',\n",
       "       'Experienced Data Scientist', 'Data Scientist - Contract',\n",
       "       'Data Analyst II', 'Medical Lab Scientist',\n",
       "       'Data Scientist/Machine Learning', 'Human Factors Scientist',\n",
       "       'Business Intelligence Analyst I- Data Insights',\n",
       "       'Data Scientist - Risk', 'Data Scientist-Human Resources',\n",
       "       'Senior Research Statistician- Data Scientist', 'Data Engineer',\n",
       "       'Associate Data Scientist', 'Business Intelligence Analyst',\n",
       "       'Senior Analyst/Data Scientist', 'Data Analyst',\n",
       "       'Machine Learning Engineer', 'Data Analyst I',\n",
       "       'Scientist - Molecular Biology',\n",
       "       'Computational Scientist, Machine Learning',\n",
       "       'Senior Data Scientist', 'Jr. Data Engineer',\n",
       "       'E-Commerce Data Analyst', 'Data Analytics Engineer',\n",
       "       'Product Data Scientist - Ads Data Science',\n",
       "       'Data Scientist - Intermediate', 'Global Data Analyst',\n",
       "       'Data & Machine Learning Scientist',\n",
       "       'Data Scientist - Machine Learning', 'Data Engineer (Remote)',\n",
       "       'Data Scientist, Applied Machine Learning - Bay Area',\n",
       "       'Principal Data Scientist', 'Business Data Analyst',\n",
       "       'Purification Scientist', 'Data Engineer, Enterprise Analytics',\n",
       "       'Data Scientist 3 (718)', 'Real World Science, Data Scientist',\n",
       "       'Data Scientist - Image and Video Analytics',\n",
       "       'Data Science Manager, Payment Acceptance - USA',\n",
       "       'Data Scientist / Applied Mathematician',\n",
       "       'Patient Safety- Associate Data Scientist',\n",
       "       '(Sr.) Data Scientist -', 'Data Scientist, Kinship - NYC/Portland',\n",
       "       'Applied Technology Researcher / Data Scientist',\n",
       "       'Health Data Scientist - Biomedical/Biostats',\n",
       "       'Staff Data Scientist', 'Sr Data Engineer (Sr BI Developer)',\n",
       "       'Lead Data Scientist', 'RFP Data Analyst',\n",
       "       'Data Scientist (TS/SCI)', 'Software Engineer - Data Science',\n",
       "       'Data Analyst/Engineer', 'NGS Scientist', 'Senior Data Engineer',\n",
       "       'Sr. ML/Data Scientist - AI/NLP/Chatbot',\n",
       "       'Data Integration and Modeling Engineer',\n",
       "       'Tableau Data Engineer 20-0117', 'AI Data Scientist',\n",
       "       'Research Scientist Patient Preferences (Remote)',\n",
       "       'Scientist - Biomarker and Flow Cytometry', 'Analytics Manager',\n",
       "       'Staff Scientist- Upstream PD',\n",
       "       'Sr Scientist - Extractables & Leachables',\n",
       "       'ELISA RESEARCH SCIENTIST (CV-15)', 'Say Business Data Analyst',\n",
       "       'Geospatial Data Scientist', 'Computational Scientist',\n",
       "       'Senior Data Analyst', 'Sr Data Analyst',\n",
       "       'Machine Learning Scientist - Bay Area, CA',\n",
       "       'Senior Data Scientist - Algorithms',\n",
       "       'Senior Data & Machine Learning Scientist',\n",
       "       'Research Scientist - Patient-Centered Research (Remote)',\n",
       "       'Jr. Business Data Analyst (position added 6/12/2020)',\n",
       "       'Sr. Data Scientist II',\n",
       "       'Production Engineer - Statistics/Data Analysis',\n",
       "       'Statistical Scientist', 'Computational Behavioral Scientist',\n",
       "       'Principal Data Scientist - Machine Learning',\n",
       "       'Principal Machine Learning Scientist',\n",
       "       'Senior Data Scientist - R&D Oncology',\n",
       "       'Health Plan Data Analyst, Sr',\n",
       "       'Principal Scientist/Associate Director, Quality Control and Analytical Technologies',\n",
       "       'Analytics - Business Assurance Data Analyst',\n",
       "       'Senior Data Scientist – Image Analytics, Novartis AI Innovation Lab',\n",
       "       'Data Science Instructor', 'Senior Business Intelligence Analyst',\n",
       "       'In-Line Inspection Data Analyst',\n",
       "       'Data Scientist - TS/SCI FSP or CI Required',\n",
       "       'Data Scientist - TS/SCI Required',\n",
       "       'Data Science Software Engineer',\n",
       "       'ENGINEER - COMPUTER SCIENTIST - RESEARCH COMPUTER SCIENTIST - SIGNAL PROCESSING - SAN ANTONIO OR',\n",
       "       'AI Ops Data Scientist', 'Intelligence Data Analyst, Senior',\n",
       "       'Analytics Manager - Data Mart',\n",
       "       'Data Modeler (Analytical Systems)',\n",
       "       'Senior Machine Learning Scientist - Bay Area, CA',\n",
       "       'Report Writer-Data Analyst', 'Staff Data Scientist - Pricing',\n",
       "       'Equity Data Insights Analyst - Quantitative Analyst',\n",
       "       'Operations Data Analyst', 'Software Data Engineer',\n",
       "       'Real World Evidence (RWE) Scientist', 'Computer Scientist 1',\n",
       "       'Environmental Data Science', 'Staff BI and Data Engineer',\n",
       "       'Data Scientist - Statistics, Mid-Career',\n",
       "       'Director of Data Science',\n",
       "       'Data Engineer, Digital & Comp Pathology',\n",
       "       'Manager / Lead, Data Science & Analytics',\n",
       "       'Diversity and Inclusion Data Analyst',\n",
       "       'Data Scientist Machine Learning', 'Chief Scientist',\n",
       "       'Development Scientist, Voltaren',\n",
       "       'Principal Data & Analytics Platform Engineer',\n",
       "       'Machine Learning Engineer/Scientist',\n",
       "       'Data Analyst - Unilever Prestige', 'VP, Data Science',\n",
       "       'Data Engineer - Kafka', 'Decision Scientist',\n",
       "       'Data Science All Star Program - Data Engineer Track',\n",
       "       'Scientist - Machine Learning', 'Sr. Data Scientist',\n",
       "       'Applied AI Scientist / Engineer',\n",
       "       'Data Engineer (Analytics, SQL, Python, AWS)',\n",
       "       'Senior Data Analyst - Finance & Platform Analytics',\n",
       "       'Market Research Data Scientist',\n",
       "       'IT Partner Digital Health Technology and Data Science',\n",
       "       'Software Engineer (Data Scientist, C,C++,Linux,Unix) - SISW - MG',\n",
       "       'Senior Clinical Data Scientist Programmer',\n",
       "       'Computer Vision / Deep Learning Scientist',\n",
       "       'Data Solutions Engineer - Data Modeler',\n",
       "       'Data Scientist (TS/SCI w/ Poly)',\n",
       "       'Weapons and Sensors Engineer/Scientist',\n",
       "       'Applied Computer Scientist', 'Cloud Data Engineer (Azure)',\n",
       "       'Lead Certified Clinical Laboratory Scientist - Saturday - Tuesday, 8:00pm - 6:30am shift',\n",
       "       'Sr. Data Analyst',\n",
       "       'Senior Scientist - Toxicologist - Product Integrity (Stewardship)',\n",
       "       'Senior Machine Learning Engineer',\n",
       "       'Data Scientist- Industrial Discrete Sector Industry',\n",
       "       'Senior Principal Data Scientist (Python/R)',\n",
       "       'Data Scientist(s)/Machine Learning Engineer',\n",
       "       'Scientist / Group Lead, Cancer Biology',\n",
       "       'Manager, Field Application Scientist, Southeast',\n",
       "       'COMPUTER SCIENTIST - ENGINEER - RESEARCH COMPUTER SCIENTIST - SIGNAL PROCESSING',\n",
       "       'Machine Learning Scientist / Engineer', 'Data Science Analyst',\n",
       "       'COMPUTER SCIENTIST - ENGINEER - RESEARCH COMPUTER SCIENTIST - TRANSPORTATION TECHNOLOGY',\n",
       "       'Software Engineer - Machine Learning & Data Science (Applied Intelligence Services Team)',\n",
       "       'Clinical Data Analyst', 'Data Scientist Technical Specialist',\n",
       "       'Data Science Manager', 'Big Data Engineer', 'Data Architect',\n",
       "       'Aviation AI/ML Data Scientist', 'Machine Learning Engineer, Sr.',\n",
       "       'Information Systems Engineering Specialist (Engineering Scientist)',\n",
       "       'Scientist/Research Associate-Metabolic Engineering',\n",
       "       'Vice President, Biometrics and Clinical Data Management',\n",
       "       'Enterprise Data Analyst (Enterprise Portfolio Management Office)',\n",
       "       'Lead Data Scientist – Network Analysis and Control',\n",
       "       'Sr. Research Associate/ Scientist, NGS prep & Molecular Genomics',\n",
       "       'Developer III - Data Science',\n",
       "       'Hydrogen/Tritium Materials Scientist (Experienced)',\n",
       "       'Data Scientist/Data Analytics Practitioner',\n",
       "       'AI/ML - Machine Learning Scientist, Siri Understanding'],\n",
       "      dtype=object)"
      ]
     },
     "execution_count": 62,
     "metadata": {},
     "output_type": "execute_result"
    }
   ],
   "source": [
    "df['Job Title'].unique()"
   ]
  },
  {
   "cell_type": "code",
   "execution_count": 63,
   "id": "e56ea150-d458-4cee-9a91-01ad8089a757",
   "metadata": {},
   "outputs": [
    {
     "data": {
      "text/plain": [
       "array(['Insurance Carriers', 'Research & Development', 'Consulting',\n",
       "       'Electrical & Electronic Manufacturing', 'Advertising & Marketing',\n",
       "       'Computer Hardware & Software', 'Biotech & Pharmaceuticals',\n",
       "       'Consumer Electronics & Appliances Stores',\n",
       "       'Enterprise Software & Network Solutions', 'IT Services', 'Energy',\n",
       "       'Chemical Manufacturing', 'Federal Agencies', 'Internet',\n",
       "       'Health Care Services & Hospitals',\n",
       "       'Investment Banking & Asset Management', 'Aerospace & Defense',\n",
       "       'Utilities', '-1', 'Express Delivery Services',\n",
       "       'Staffing & Outsourcing', 'Insurance Agencies & Brokerages',\n",
       "       'Consumer Products Manufacturing', 'Industrial Manufacturing',\n",
       "       'Food & Beverage Manufacturing', 'Banks & Credit Unions',\n",
       "       'Video Games', 'Shipping', 'Telecommunications Services',\n",
       "       'Lending', 'Cable, Internet & Telephone Providers', 'Real Estate',\n",
       "       'Venture Capital & Private Equity', 'Miscellaneous Manufacturing',\n",
       "       'Oil & Gas Services', 'Transportation Equipment Manufacturing',\n",
       "       'Telecommunications Manufacturing', 'Transportation Management',\n",
       "       'News Outlet', 'Architectural & Engineering Services',\n",
       "       'Food & Beverage Stores', 'Other Retail Stores',\n",
       "       'Hotels, Motels, & Resorts', 'State & Regional Agencies',\n",
       "       'Financial Transaction Processing', 'Timber Operations',\n",
       "       'Colleges & Universities', 'Travel Agencies', 'Accounting',\n",
       "       'Logistics & Supply Chain', 'Farm Support Services',\n",
       "       'Social Assistance', 'Construction',\n",
       "       'Department, Clothing, & Shoe Stores', 'Publishing',\n",
       "       'Health, Beauty, & Fitness', 'Wholesale', 'Rail'], dtype=object)"
      ]
     },
     "execution_count": 63,
     "metadata": {},
     "output_type": "execute_result"
    }
   ],
   "source": [
    "df.Industry.unique()"
   ]
  },
  {
   "cell_type": "code",
   "execution_count": 64,
   "id": "f99aa7e3-d937-4000-958d-17cf03753690",
   "metadata": {},
   "outputs": [],
   "source": [
    "def general_cleaning(df: pd.DataFrame):\n",
    "    df_2=df.copy()\n",
    "    df_2.columns= df_2.columns.str.lower().str.replace(' ','_').str.strip()\n",
    "    df_2.drop_duplicates(inplace=True)\n",
    "    df_2.reset_index(drop=True,inplace=True)\n",
    "    return df_2"
   ]
  },
  {
   "cell_type": "code",
   "execution_count": 65,
   "id": "3db24925-0169-45c6-a62c-677b6844be1d",
   "metadata": {},
   "outputs": [
    {
     "name": "stdout",
     "output_type": "stream",
     "text": [
      "After removing duplicated, the data set has 672 rows and 15 columns\n"
     ]
    }
   ],
   "source": [
    "df_clean=general_cleaning(df)\n",
    "df_clean.shape\n",
    "print(f'After removing duplicated, the data set has {df_clean.shape[0]} rows and {df_clean.shape[1]} columns')"
   ]
  },
  {
   "cell_type": "code",
   "execution_count": 69,
   "id": "8520580f-33d6-44b9-8a7e-1fa2fe5126bf",
   "metadata": {},
   "outputs": [
    {
     "name": "stdout",
     "output_type": "stream",
     "text": [
      "replacing the -1 values with numpy.nan to provide the missing indicator\n"
     ]
    }
   ],
   "source": [
    "print('replacing the -1 values with numpy.nan to provide the missing indicator')\n",
    "df_clean.replace({-1:np.nan,'-1': np.nan}, inplace=True)"
   ]
  },
  {
   "cell_type": "code",
   "execution_count": 70,
   "id": "9a46b919-c41f-4baf-8ecc-404cea4a9b0a",
   "metadata": {},
   "outputs": [
    {
     "name": "stdout",
     "output_type": "stream",
     "text": [
      " the missing values of the column index : 0\n",
      " the missing values of the column job_title : 0\n",
      " the missing values of the column salary_estimate : 0\n",
      " the missing values of the column job_description : 0\n",
      " the missing values of the column rating : 50\n",
      " the missing values of the column company_name : 0\n",
      " the missing values of the column location : 0\n",
      " the missing values of the column headquarters : 31\n",
      " the missing values of the column size : 27\n",
      " the missing values of the column founded : 118\n",
      " the missing values of the column type_of_ownership : 27\n",
      " the missing values of the column industry : 71\n",
      " the missing values of the column sector : 71\n",
      " the missing values of the column revenue : 27\n",
      " the missing values of the column competitors : 501\n"
     ]
    }
   ],
   "source": [
    "columns=df_clean.columns\n",
    "null_values=df_clean.isna().sum()\n",
    "for col in columns:\n",
    "    print(f' the missing values of the column {col} : {null_values.loc[col]}')"
   ]
  },
  {
   "cell_type": "code",
   "execution_count": null,
   "id": "7a5fb9a2-219d-4d9a-a288-e6b1b435dff5",
   "metadata": {},
   "outputs": [],
   "source": []
  }
 ],
 "metadata": {
  "kernelspec": {
   "display_name": "ironhack_project1_env",
   "language": "python",
   "name": "ironhack_project1_env"
  },
  "language_info": {
   "codemirror_mode": {
    "name": "ipython",
    "version": 3
   },
   "file_extension": ".py",
   "mimetype": "text/x-python",
   "name": "python",
   "nbconvert_exporter": "python",
   "pygments_lexer": "ipython3",
   "version": "3.11.5"
  }
 },
 "nbformat": 4,
 "nbformat_minor": 5
}
